{
  "nbformat": 4,
  "nbformat_minor": 0,
  "metadata": {
    "colab": {
      "provenance": [],
      "toc_visible": true
    },
    "kernelspec": {
      "name": "python3",
      "display_name": "Python 3"
    },
    "language_info": {
      "name": "python"
    }
  },
  "cells": [
    {
      "cell_type": "markdown",
      "source": [
        "**CREATING THE INPUT GENERATOR**"
      ],
      "metadata": {
        "id": "oq79bbeazRUQ"
      }
    },
    {
      "cell_type": "code",
      "source": [
        "# Open a file in write mode\n",
        "with open(\"vertices.txt\", \"w\") as f:\n",
        "    # Initialize an empty list of vertices\n",
        "    vertices = []\n",
        "\n",
        "    # Ask the user to enter the number of vertices\n",
        "    num_vertices = int(input(\"Enter the number of vertices: \"))\n",
        "\n",
        "    # Create a dictionary to map vertex numbers to names\n",
        "    vertex_names = {}\n",
        "    for i in range(num_vertices):\n",
        "        name = input(f\"Enter the name for vertex {i}: \")\n",
        "        vertex_names[i] = name\n",
        "\n",
        "    # Loop through the number of vertices and ask the user to enter the neighbors and value for each vertex\n",
        "    for i in range(num_vertices):\n",
        "        vertex = input(f\"Enter the neighbors and value for vertex {vertex_names[i]} (format: value, neighbors): \")\n",
        "        parts = vertex.split(\",\")  # Split the input string on the comma to get a list of neighbors and value\n",
        "        value = parts[0]\n",
        "        neighbors = parts[1]\n",
        "        \n",
        "        vertices.append((i, neighbors, value ))  # Add the vertex, its neighbors, and its value to the list of vertices\n",
        "\n",
        "    # Write the list of vertices, their neighbors, and their values to the file\n",
        "    for v in vertices:\n",
        "        f.write(f\"{vertex_names[v[0]]} {v[2]} {v[1]}\\n\")"
      ],
      "metadata": {
        "colab": {
          "base_uri": "https://localhost:8080/"
        },
        "id": "pJvQapehy9Db",
        "outputId": "8168cef7-4ea4-4a71-c366-0bc5cee48916"
      },
      "execution_count": 1,
      "outputs": [
        {
          "name": "stdout",
          "output_type": "stream",
          "text": [
            "Enter the number of vertices: 4\n",
            "Enter the name for vertex 0: A\n",
            "Enter the name for vertex 1: B\n",
            "Enter the name for vertex 2: C\n",
            "Enter the name for vertex 3: D\n",
            "Enter the neighbors and value for vertex A (format: value, neighbors): 40,D\n",
            "Enter the neighbors and value for vertex B (format: value, neighbors): 20,C\n",
            "Enter the neighbors and value for vertex C (format: value, neighbors): 5,\n",
            "Enter the neighbors and value for vertex D (format: value, neighbors): 15,B\n"
          ]
        }
      ]
    },
    {
      "cell_type": "markdown",
      "source": [
        "**Opening, reading the textfile created and printing the content**"
      ],
      "metadata": {
        "id": "g_obFlPBJOQg"
      }
    },
    {
      "cell_type": "code",
      "source": [
        "with open(\"vertices.txt\", \"r\") as f:\n",
        "    # read the contents of the file\n",
        "    the_data = f.read()\n",
        "\n",
        "# print the contents of the file\n",
        "print(the_data)"
      ],
      "metadata": {
        "colab": {
          "base_uri": "https://localhost:8080/"
        },
        "id": "3HWmTWj7zDmb",
        "outputId": "6728d2af-3e8e-40dc-997c-42f10ea1beec"
      },
      "execution_count": 2,
      "outputs": [
        {
          "output_type": "stream",
          "name": "stdout",
          "text": [
            "A 40 D\n",
            "B 20 C\n",
            "C 5 \n",
            "D 15 B\n",
            "\n"
          ]
        }
      ]
    },
    {
      "cell_type": "markdown",
      "source": [
        "**Creating the vertices with their values and their neighbours and values also**"
      ],
      "metadata": {
        "id": "dyaTTTT5JDt_"
      }
    },
    {
      "cell_type": "code",
      "source": [
        "# create empty dictionary\n",
        "graph = {}\n",
        "\n",
        "content = \"vertices.txt\"\n",
        "# open text file and read contents into a string\n",
        "with open(content, 'r') as f:\n",
        "    text = f.read()\n",
        "\n",
        "# split string into list of lines\n",
        "lines = text.split(\"\\n\")\n",
        "number_of_shareholders = lines[0]\n",
        "print('The number of shareholders are: ' ,num_vertices)\n",
        "#print(number_of_shareholders)\n",
        "\n",
        "for line in lines[0:]:\n",
        "    # skip empty lines\n",
        "    if not line:\n",
        "        continue\n",
        "\n",
        "    # split line into list of words\n",
        "    words = line.split()\n",
        "\n",
        "    # set first word as key and remaining words as values\n",
        "    key = words[0]\n",
        "    values = words[1:]\n",
        "    shares = values[0]\n",
        "    neighbors = values[1:]\n",
        "\n",
        "    # add key and values to dictionary\n",
        "    local_dict = {}\n",
        "    local_dict['shares'] = shares\n",
        "    local_dict['neighbors'] = neighbors\n",
        "    graph[key] = local_dict\n",
        "print(graph)"
      ],
      "metadata": {
        "colab": {
          "base_uri": "https://localhost:8080/"
        },
        "id": "WMbWJtOhqdru",
        "outputId": "4e1c1568-4053-4489-d726-e62df5eced93"
      },
      "execution_count": 3,
      "outputs": [
        {
          "output_type": "stream",
          "name": "stdout",
          "text": [
            "The number of shareholders are:  4\n",
            "{'A': {'shares': '40', 'neighbors': ['D']}, 'B': {'shares': '20', 'neighbors': ['C']}, 'C': {'shares': '5', 'neighbors': []}, 'D': {'shares': '15', 'neighbors': ['B']}}\n"
          ]
        }
      ]
    },
    {
      "cell_type": "markdown",
      "source": [
        "**Creating a vocabulary for the graph**"
      ],
      "metadata": {
        "id": "H3SGJAa9I4zK"
      }
    },
    {
      "cell_type": "code",
      "source": [
        "vocab = list(graph.keys())[:1]"
      ],
      "metadata": {
        "id": "G75xXWFL1Mdw"
      },
      "execution_count": 4,
      "outputs": []
    },
    {
      "cell_type": "markdown",
      "source": [
        "**Implementing Depth-First Search**"
      ],
      "metadata": {
        "id": "C9U680NSIsAJ"
      }
    },
    {
      "cell_type": "code",
      "source": [
        "# Set to keep track of visited nodes of graph.\n",
        "visited = set() \n",
        "\n",
        "#function for dfs \n",
        "def dfs(visited, graph, node):  \n",
        "    #print(node)\n",
        "    if node not in visited:\n",
        "        n = graph[node]['neighbors']\n",
        "        print(node)\n",
        "        visited.add(node)\n",
        "        #print(visited)\n",
        "        for neighbour in n:\n",
        "            dfs(visited, graph, neighbour)\n",
        "\n",
        "# Driver Code\n",
        "print(\"Following is the Depth-First Search\")\n",
        "dfs(visited, graph, vocab[0])"
      ],
      "metadata": {
        "colab": {
          "base_uri": "https://localhost:8080/"
        },
        "id": "W0ghaaIU1GDv",
        "outputId": "fc8b922b-06b7-441f-bfeb-1ea2d7b8b75e"
      },
      "execution_count": 5,
      "outputs": [
        {
          "output_type": "stream",
          "name": "stdout",
          "text": [
            "Following is the Depth-First Search\n",
            "A\n",
            "D\n",
            "B\n",
            "C\n"
          ]
        }
      ]
    }
  ]
}